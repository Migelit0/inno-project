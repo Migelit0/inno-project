{
 "cells": [
  {
   "cell_type": "markdown",
   "id": "4c43abd2-a972-4d62-99cf-793fe191b184",
   "metadata": {},
   "source": [
    "## Imports and constants"
   ]
  },
  {
   "cell_type": "code",
   "execution_count": 10,
   "id": "72da3347-a371-4a6b-a97b-12ebf9b09296",
   "metadata": {},
   "outputs": [],
   "source": [
    "import numpy as np\n",
    "import matplotlib.pyplot as plt\n",
    "from matplotlib.pyplot import gca as gca\n",
    "from matplotlib.pyplot import grid as grid\n",
    "import math"
   ]
  },
  {
   "cell_type": "code",
   "execution_count": 3,
   "id": "84a7387a-c7b0-412c-8f46-e652fbe361c5",
   "metadata": {},
   "outputs": [],
   "source": [
    "G = 6.673 * 1e-11\n",
    "M = 5.972 * 1e24\n",
    "radius = 6371000\n",
    "ISS_height = 437*1e3\n",
    "ISS_velocity = 7654\n",
    "ISS_time = 90*60"
   ]
  },
  {
   "cell_type": "code",
   "execution_count": 4,
   "id": "7deaa44a-6532-4af1-a3dd-e96e46b22172",
   "metadata": {},
   "outputs": [],
   "source": [
    "Oz = [0, 0, 1]"
   ]
  },
  {
   "cell_type": "markdown",
   "id": "521c7636-1677-4609-82a8-ea8c80518b51",
   "metadata": {},
   "source": [
    "## Initialize params"
   ]
  },
  {
   "cell_type": "code",
   "execution_count": 11,
   "id": "430de17d-b231-4d38-9fc1-db9d771d2e7b",
   "metadata": {},
   "outputs": [],
   "source": [
    "North = -43.07 * math.pi/180\n",
    "East = -61.50  * math.pi/180"
   ]
  },
  {
   "cell_type": "code",
   "execution_count": 12,
   "id": "d7b1711e-0698-416a-9422-734bf7ac41b5",
   "metadata": {},
   "outputs": [],
   "source": [
    "init_pos = [math.cos(North)*math.cos(East),\n",
    "            math.cos(North)*math.sin(East),\n",
    "            math.sin(North)]"
   ]
  },
  {
   "cell_type": "code",
   "execution_count": null,
   "id": "c1c6dfa6-36db-49d5-adb8-a8a155f6bd80",
   "metadata": {},
   "outputs": [],
   "source": [
    "orbit_norm = get_orbit_n(init_pos, false);\n",
    "tau = cross(orbit_norm, init_pos);\n",
    "\n",
    "r0 = init_pos*(radius + ISS_height);\n",
    "v0 = tau * ISS_velocity;\n",
    "\n",
    "tspan = linspace(0, 1*ISS_time, 1e5);\n",
    "x0 = [r0; v0];\n",
    "odefun = @(t, x) [x(4:6); -G*M*x(1:3) / ((norm(x(1:3)))^3)];\n",
    "% f = G*M*r / ((norm(r))^3);\n",
    "\n",
    "opts = odeset('Reltol',1e-13,'AbsTol',1e-14,'Stats','on');\n",
    "\n",
    "[t, x] = ode45(odefun,tspan,x0, opts);\n",
    "trajectory = x(:, 1:3);\n",
    "\n",
    "trajectory_corrected = zeros(size(trajectory));"
   ]
  }
 ],
 "metadata": {
  "kernelspec": {
   "display_name": "Python 3 (ipykernel)",
   "language": "python",
   "name": "python3"
  },
  "language_info": {
   "codemirror_mode": {
    "name": "ipython",
    "version": 3
   },
   "file_extension": ".py",
   "mimetype": "text/x-python",
   "name": "python",
   "nbconvert_exporter": "python",
   "pygments_lexer": "ipython3",
   "version": "3.9.5"
  }
 },
 "nbformat": 4,
 "nbformat_minor": 5
}
